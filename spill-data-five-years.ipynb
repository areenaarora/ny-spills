{
 "cells": [
  {
   "cell_type": "code",
   "execution_count": 1,
   "id": "b6dfa039",
   "metadata": {},
   "outputs": [
    {
     "name": "stderr",
     "output_type": "stream",
     "text": [
      "/Users/areena.arora/.pyenv/versions/3.10.0/lib/python3.10/site-packages/pandas/compat/__init__.py:124: UserWarning: Could not import the lzma module. Your installed Python is incomplete. Attempting to use lzma compression will result in a RuntimeError.\n",
      "  warnings.warn(msg)\n"
     ]
    }
   ],
   "source": [
    "import pandas as pd\n",
    "pd.set_option(\"display.max_rows\", None)\n",
    "pd.set_option(\"display.max_columns\", None)\n",
    "df = pd.read_csv('five-years-spill_incidents.csv')\n",
    "df.columns = df.columns.str.lower()\n",
    "df.columns = df.columns.str.replace(\" \", \"_\")"
   ]
  },
  {
   "cell_type": "markdown",
   "id": "0429844e",
   "metadata": {},
   "source": [
    "### Data source: [New York Open Data](\"https://data.ny.gov/Energy-Environment/Spill-Incidents/u44d-k5fk/data\")"
   ]
  },
  {
   "cell_type": "markdown",
   "id": "729eb961",
   "metadata": {},
   "source": [
    "### Questions to ask of the data:\n",
    "1. Where did the most incidents occur?\n",
    "2. What's the most common type of material spilled?\n",
    "3. What's the biggest quantity of spill?\n",
    "4. What are the biggest spills by each county?\n",
    "5. Longest clean up time\n",
    "6. Most common and least common source of spills"
   ]
  },
  {
   "cell_type": "markdown",
   "id": "8e10aa53",
   "metadata": {},
   "source": [
    "###### 1. Where did the most incidents occur?"
   ]
  },
  {
   "cell_type": "code",
   "execution_count": 2,
   "id": "d16ab2bb",
   "metadata": {},
   "outputs": [
    {
     "data": {
      "text/plain": [
       "Westchester                       6311\n",
       "Suffolk                           5840\n",
       "Nassau                            4212\n",
       "Erie                              2673\n",
       "Orange                            2623\n",
       "Queens                            2436\n",
       "Monroe                            2074\n",
       "Albany                            1992\n",
       "Kings                             1739\n",
       "Saratoga                          1731\n",
       "Onondaga                          1668\n",
       "Dutchess                          1592\n",
       "New York                          1532\n",
       "Rockland                          1364\n",
       "Ulster                            1363\n",
       "Niagara                           1262\n",
       "Bronx                             1090\n",
       "Rensselaer                        1015\n",
       "Oneida                             885\n",
       "Schenectady                        850\n",
       "Putnam                             831\n",
       "Jefferson                          792\n",
       "Broome                             762\n",
       "Sullivan                           737\n",
       "Oswego                             696\n",
       "Warren                             670\n",
       "St Lawrence                        655\n",
       "Richmond                           579\n",
       "Chautauqua                         554\n",
       "Steuben                            540\n",
       "Clinton                            521\n",
       "Ontario                            520\n",
       "Essex                              480\n",
       "Washington                         458\n",
       "Tompkins                           456\n",
       "Genesee                            433\n",
       "Greene                             416\n",
       "Cattaraugus                        412\n",
       "Delaware                           411\n",
       "Columbia                           385\n",
       "Cayuga                             368\n",
       "Chemung                            359\n",
       "Wayne                              354\n",
       "Montgomery                         326\n",
       "Herkimer                           325\n",
       "Livingston                         325\n",
       "Otsego                             316\n",
       "Madison                            314\n",
       "Franklin                           300\n",
       "Schoharie                          278\n",
       "Fulton                             260\n",
       "Seneca                             251\n",
       "Allegany                           239\n",
       "Chenango                           237\n",
       "Cortland                           232\n",
       "Tioga                              220\n",
       "Orleans                            203\n",
       "Lewis                              181\n",
       "Wyoming                            154\n",
       "Yates                              135\n",
       "Schuyler                           113\n",
       "Hamilton                            96\n",
       "New Jersey - Region 2               32\n",
       "Canada - Region 6                    2\n",
       "Tuscarora Indian Reservation         2\n",
       "Pennsylvania - Region 9              1\n",
       "Poospatuck Indian Reservation        1\n",
       "Massachusetts - Region 4             1\n",
       "New Jersey - Region 3 (N)            1\n",
       "Vermont - Region 5 (R)               1\n",
       "Shinnecock Indian Reservation        1\n",
       "Oil Springs Indian Reservation       1\n",
       "Name: county, dtype: int64"
      ]
     },
     "execution_count": 2,
     "metadata": {},
     "output_type": "execute_result"
    }
   ],
   "source": [
    "df.county.value_counts()"
   ]
  },
  {
   "cell_type": "markdown",
   "id": "43877c1b",
   "metadata": {},
   "source": [
    "###### 2. What's the most common type of material spilled?"
   ]
  },
  {
   "cell_type": "code",
   "execution_count": 3,
   "id": "04928b8a",
   "metadata": {},
   "outputs": [
    {
     "data": {
      "text/plain": [
       "#2 fuel oil        13429\n",
       "transformer oil     7557\n",
       "hydraulic oil       5874\n",
       "diesel              5851\n",
       "gasoline            5125\n",
       "Name: material_name, dtype: int64"
      ]
     },
     "execution_count": 3,
     "metadata": {},
     "output_type": "execute_result"
    }
   ],
   "source": [
    "df.material_name.value_counts().head(5)"
   ]
  },
  {
   "cell_type": "code",
   "execution_count": 4,
   "id": "1082996a",
   "metadata": {},
   "outputs": [
    {
     "data": {
      "text/plain": [
       "other  -  possible raw sewage and solids    1\n",
       "other  -  fuel conditioner                  1\n",
       "other  -  buried  cars                      1\n",
       "other  -  possible gas and fuel release     1\n",
       "other  -  lavatory waste                    1\n",
       "Name: material_name, dtype: int64"
      ]
     },
     "execution_count": 4,
     "metadata": {},
     "output_type": "execute_result"
    }
   ],
   "source": [
    "# Least common material spilled\n",
    "df.material_name.value_counts().tail(5)"
   ]
  },
  {
   "cell_type": "markdown",
   "id": "e790f58c",
   "metadata": {},
   "source": [
    "#### A burried car whaaaa? 🚙"
   ]
  },
  {
   "cell_type": "code",
   "execution_count": 5,
   "id": "803856ce",
   "metadata": {},
   "outputs": [
    {
     "data": {
      "text/html": [
       "<div>\n",
       "<style scoped>\n",
       "    .dataframe tbody tr th:only-of-type {\n",
       "        vertical-align: middle;\n",
       "    }\n",
       "\n",
       "    .dataframe tbody tr th {\n",
       "        vertical-align: top;\n",
       "    }\n",
       "\n",
       "    .dataframe thead th {\n",
       "        text-align: right;\n",
       "    }\n",
       "</style>\n",
       "<table border=\"1\" class=\"dataframe\">\n",
       "  <thead>\n",
       "    <tr style=\"text-align: right;\">\n",
       "      <th></th>\n",
       "      <th>index</th>\n",
       "      <th>spill_number</th>\n",
       "      <th>program_facility_name</th>\n",
       "      <th>street_1</th>\n",
       "      <th>street_2</th>\n",
       "      <th>locality</th>\n",
       "      <th>county</th>\n",
       "      <th>zip_code</th>\n",
       "      <th>swis_code</th>\n",
       "      <th>dec_region</th>\n",
       "      <th>spill_date</th>\n",
       "      <th>received_date</th>\n",
       "      <th>contributing_factor</th>\n",
       "      <th>waterbody</th>\n",
       "      <th>source</th>\n",
       "      <th>close_date</th>\n",
       "      <th>material_name</th>\n",
       "      <th>material_family</th>\n",
       "      <th>quantity</th>\n",
       "      <th>units</th>\n",
       "      <th>recovered</th>\n",
       "    </tr>\n",
       "  </thead>\n",
       "  <tbody>\n",
       "    <tr>\n",
       "      <th>0</th>\n",
       "      <td>26511</td>\n",
       "      <td>1811140</td>\n",
       "      <td>GROUND</td>\n",
       "      <td>RT 22</td>\n",
       "      <td>NaN</td>\n",
       "      <td>HOOSICK FALLS</td>\n",
       "      <td>Rensselaer</td>\n",
       "      <td>NaN</td>\n",
       "      <td>4228</td>\n",
       "      <td>4</td>\n",
       "      <td>02/05/2019</td>\n",
       "      <td>02/05/2019</td>\n",
       "      <td>Deliberate</td>\n",
       "      <td>NaN</td>\n",
       "      <td>Private Dwelling</td>\n",
       "      <td>02/06/2019</td>\n",
       "      <td>other  -  buried  cars</td>\n",
       "      <td>Other</td>\n",
       "      <td>0.0</td>\n",
       "      <td>NaN</td>\n",
       "      <td>0.0</td>\n",
       "    </tr>\n",
       "  </tbody>\n",
       "</table>\n",
       "</div>"
      ],
      "text/plain": [
       "   index  spill_number program_facility_name street_1 street_2       locality  \\\n",
       "0  26511       1811140                GROUND    RT 22      NaN  HOOSICK FALLS   \n",
       "\n",
       "       county zip_code  swis_code  dec_region  spill_date received_date  \\\n",
       "0  Rensselaer      NaN       4228           4  02/05/2019    02/05/2019   \n",
       "\n",
       "  contributing_factor waterbody            source  close_date  \\\n",
       "0          Deliberate       NaN  Private Dwelling  02/06/2019   \n",
       "\n",
       "            material_name material_family  quantity units  recovered  \n",
       "0  other  -  buried  cars           Other       0.0   NaN        0.0  "
      ]
     },
     "execution_count": 5,
     "metadata": {},
     "output_type": "execute_result"
    }
   ],
   "source": [
    "df.loc[df.material_name == 'other  -  buried  cars'].reset_index()"
   ]
  },
  {
   "cell_type": "markdown",
   "id": "0dc3e95d",
   "metadata": {},
   "source": [
    "##### 3. What's the biggest quantity of spill?"
   ]
  },
  {
   "cell_type": "code",
   "execution_count": 6,
   "id": "489e471a",
   "metadata": {},
   "outputs": [
    {
     "data": {
      "text/html": [
       "<div>\n",
       "<style scoped>\n",
       "    .dataframe tbody tr th:only-of-type {\n",
       "        vertical-align: middle;\n",
       "    }\n",
       "\n",
       "    .dataframe tbody tr th {\n",
       "        vertical-align: top;\n",
       "    }\n",
       "\n",
       "    .dataframe thead th {\n",
       "        text-align: right;\n",
       "    }\n",
       "</style>\n",
       "<table border=\"1\" class=\"dataframe\">\n",
       "  <thead>\n",
       "    <tr style=\"text-align: right;\">\n",
       "      <th></th>\n",
       "      <th>spill_number</th>\n",
       "      <th>program_facility_name</th>\n",
       "      <th>street_1</th>\n",
       "      <th>street_2</th>\n",
       "      <th>locality</th>\n",
       "      <th>county</th>\n",
       "      <th>zip_code</th>\n",
       "      <th>swis_code</th>\n",
       "      <th>dec_region</th>\n",
       "      <th>spill_date</th>\n",
       "      <th>received_date</th>\n",
       "      <th>contributing_factor</th>\n",
       "      <th>waterbody</th>\n",
       "      <th>source</th>\n",
       "      <th>close_date</th>\n",
       "      <th>material_name</th>\n",
       "      <th>material_family</th>\n",
       "      <th>quantity</th>\n",
       "      <th>units</th>\n",
       "      <th>recovered</th>\n",
       "    </tr>\n",
       "  </thead>\n",
       "  <tbody>\n",
       "    <tr>\n",
       "      <th>7924</th>\n",
       "      <td>1705181</td>\n",
       "      <td>COLONIE LANDFILL ODOR</td>\n",
       "      <td>1319 LOUDON RD RT 9 LANDFILL</td>\n",
       "      <td>COLONIE LANDFILL  ROUTE 9  ALBANY</td>\n",
       "      <td>COLONIE COHOES LATHAM WATERFOR</td>\n",
       "      <td>Albany</td>\n",
       "      <td>NaN</td>\n",
       "      <td>126</td>\n",
       "      <td>4</td>\n",
       "      <td>08/23/2017</td>\n",
       "      <td>08/23/2017</td>\n",
       "      <td>Unknown</td>\n",
       "      <td>NaN</td>\n",
       "      <td>Commercial/Industrial</td>\n",
       "      <td>08/24/2017</td>\n",
       "      <td>food waste</td>\n",
       "      <td>Other</td>\n",
       "      <td>1.000000e+11</td>\n",
       "      <td>Pounds</td>\n",
       "      <td>0.0</td>\n",
       "    </tr>\n",
       "    <tr>\n",
       "      <th>58779</th>\n",
       "      <td>2107352</td>\n",
       "      <td>AIRPORT - ALLIED AVIATION</td>\n",
       "      <td>90 SOUTH SERVICE RD.</td>\n",
       "      <td>NaN</td>\n",
       "      <td>JAMAICA</td>\n",
       "      <td>Queens</td>\n",
       "      <td>NaN</td>\n",
       "      <td>4101</td>\n",
       "      <td>2</td>\n",
       "      <td>11/09/2021</td>\n",
       "      <td>11/09/2021</td>\n",
       "      <td>Other</td>\n",
       "      <td>NaN</td>\n",
       "      <td>Airport/Aircraft</td>\n",
       "      <td>11/09/2021</td>\n",
       "      <td>jet fuel</td>\n",
       "      <td>Petroleum</td>\n",
       "      <td>3.416000e+06</td>\n",
       "      <td>Gallons</td>\n",
       "      <td>0.0</td>\n",
       "    </tr>\n",
       "    <tr>\n",
       "      <th>47666</th>\n",
       "      <td>2007038</td>\n",
       "      <td>DRILL DRILL DRILL</td>\n",
       "      <td>625 ELK ST</td>\n",
       "      <td>NaN</td>\n",
       "      <td>BUFFALO</td>\n",
       "      <td>Erie</td>\n",
       "      <td>NaN</td>\n",
       "      <td>1502</td>\n",
       "      <td>9</td>\n",
       "      <td>11/04/2020</td>\n",
       "      <td>11/04/2020</td>\n",
       "      <td>Equipment Failure</td>\n",
       "      <td>BUFFALO RIVER</td>\n",
       "      <td>Commercial/Industrial</td>\n",
       "      <td>11/05/2020</td>\n",
       "      <td>diesel</td>\n",
       "      <td>Petroleum</td>\n",
       "      <td>3.192000e+06</td>\n",
       "      <td>Gallons</td>\n",
       "      <td>0.0</td>\n",
       "    </tr>\n",
       "    <tr>\n",
       "      <th>30707</th>\n",
       "      <td>1902370</td>\n",
       "      <td>FARMINGTON SEWAGE PUMP STATION</td>\n",
       "      <td>NEAR 470 VICTOR-EGYPT ROAD</td>\n",
       "      <td>STONELEIGH TRAIL PONDS</td>\n",
       "      <td>VICTOR</td>\n",
       "      <td>Ontario</td>\n",
       "      <td>14564</td>\n",
       "      <td>3548</td>\n",
       "      <td>8</td>\n",
       "      <td>06/06/2019</td>\n",
       "      <td>06/06/2019</td>\n",
       "      <td>Equipment Failure</td>\n",
       "      <td>WHITE BROOK&amp;#59; 3 P</td>\n",
       "      <td>Institutional, Educational, Gov., Other</td>\n",
       "      <td>07/07/2020</td>\n",
       "      <td>raw sewage</td>\n",
       "      <td>Other</td>\n",
       "      <td>2.000000e+06</td>\n",
       "      <td>Gallons</td>\n",
       "      <td>0.0</td>\n",
       "    </tr>\n",
       "    <tr>\n",
       "      <th>56356</th>\n",
       "      <td>2104929</td>\n",
       "      <td>DRILL DRILL DRILL</td>\n",
       "      <td>545 HENDY CREEK RD</td>\n",
       "      <td>NaN</td>\n",
       "      <td>PINE CITY</td>\n",
       "      <td>Chemung</td>\n",
       "      <td>NaN</td>\n",
       "      <td>836</td>\n",
       "      <td>8</td>\n",
       "      <td>08/24/2021</td>\n",
       "      <td>08/24/2021</td>\n",
       "      <td>Equipment Failure</td>\n",
       "      <td>HENDY CREEK</td>\n",
       "      <td>Commercial/Industrial</td>\n",
       "      <td>08/25/2021</td>\n",
       "      <td>diesel</td>\n",
       "      <td>Petroleum</td>\n",
       "      <td>1.789184e+06</td>\n",
       "      <td>Gallons</td>\n",
       "      <td>0.0</td>\n",
       "    </tr>\n",
       "  </tbody>\n",
       "</table>\n",
       "</div>"
      ],
      "text/plain": [
       "       spill_number           program_facility_name  \\\n",
       "7924        1705181           COLONIE LANDFILL ODOR   \n",
       "58779       2107352       AIRPORT - ALLIED AVIATION   \n",
       "47666       2007038               DRILL DRILL DRILL   \n",
       "30707       1902370  FARMINGTON SEWAGE PUMP STATION   \n",
       "56356       2104929               DRILL DRILL DRILL   \n",
       "\n",
       "                           street_1                           street_2  \\\n",
       "7924   1319 LOUDON RD RT 9 LANDFILL  COLONIE LANDFILL  ROUTE 9  ALBANY   \n",
       "58779          90 SOUTH SERVICE RD.                                NaN   \n",
       "47666                    625 ELK ST                                NaN   \n",
       "30707    NEAR 470 VICTOR-EGYPT ROAD             STONELEIGH TRAIL PONDS   \n",
       "56356            545 HENDY CREEK RD                                NaN   \n",
       "\n",
       "                             locality   county zip_code  swis_code  \\\n",
       "7924   COLONIE COHOES LATHAM WATERFOR   Albany      NaN        126   \n",
       "58779                         JAMAICA   Queens      NaN       4101   \n",
       "47666                         BUFFALO     Erie      NaN       1502   \n",
       "30707                          VICTOR  Ontario    14564       3548   \n",
       "56356                       PINE CITY  Chemung      NaN        836   \n",
       "\n",
       "       dec_region  spill_date received_date contributing_factor  \\\n",
       "7924            4  08/23/2017    08/23/2017             Unknown   \n",
       "58779           2  11/09/2021    11/09/2021               Other   \n",
       "47666           9  11/04/2020    11/04/2020   Equipment Failure   \n",
       "30707           8  06/06/2019    06/06/2019   Equipment Failure   \n",
       "56356           8  08/24/2021    08/24/2021   Equipment Failure   \n",
       "\n",
       "                  waterbody                                   source  \\\n",
       "7924                    NaN                    Commercial/Industrial   \n",
       "58779                   NaN                         Airport/Aircraft   \n",
       "47666         BUFFALO RIVER                    Commercial/Industrial   \n",
       "30707  WHITE BROOK&#59; 3 P  Institutional, Educational, Gov., Other   \n",
       "56356           HENDY CREEK                    Commercial/Industrial   \n",
       "\n",
       "       close_date material_name material_family      quantity    units  \\\n",
       "7924   08/24/2017    food waste           Other  1.000000e+11   Pounds   \n",
       "58779  11/09/2021      jet fuel       Petroleum  3.416000e+06  Gallons   \n",
       "47666  11/05/2020        diesel       Petroleum  3.192000e+06  Gallons   \n",
       "30707  07/07/2020    raw sewage           Other  2.000000e+06  Gallons   \n",
       "56356  08/25/2021        diesel       Petroleum  1.789184e+06  Gallons   \n",
       "\n",
       "       recovered  \n",
       "7924         0.0  \n",
       "58779        0.0  \n",
       "47666        0.0  \n",
       "30707        0.0  \n",
       "56356        0.0  "
      ]
     },
     "execution_count": 6,
     "metadata": {},
     "output_type": "execute_result"
    }
   ],
   "source": [
    "df.sort_values(by='quantity', ascending=False).head(5)"
   ]
  },
  {
   "cell_type": "code",
   "execution_count": 7,
   "id": "db1888f7",
   "metadata": {},
   "outputs": [
    {
     "data": {
      "text/html": [
       "<div>\n",
       "<style scoped>\n",
       "    .dataframe tbody tr th:only-of-type {\n",
       "        vertical-align: middle;\n",
       "    }\n",
       "\n",
       "    .dataframe tbody tr th {\n",
       "        vertical-align: top;\n",
       "    }\n",
       "\n",
       "    .dataframe thead th {\n",
       "        text-align: right;\n",
       "    }\n",
       "</style>\n",
       "<table border=\"1\" class=\"dataframe\">\n",
       "  <thead>\n",
       "    <tr style=\"text-align: right;\">\n",
       "      <th></th>\n",
       "      <th>spill_number</th>\n",
       "      <th>program_facility_name</th>\n",
       "      <th>street_1</th>\n",
       "      <th>street_2</th>\n",
       "      <th>locality</th>\n",
       "      <th>county</th>\n",
       "      <th>zip_code</th>\n",
       "      <th>swis_code</th>\n",
       "      <th>dec_region</th>\n",
       "      <th>spill_date</th>\n",
       "      <th>received_date</th>\n",
       "      <th>contributing_factor</th>\n",
       "      <th>waterbody</th>\n",
       "      <th>source</th>\n",
       "      <th>close_date</th>\n",
       "      <th>material_name</th>\n",
       "      <th>material_family</th>\n",
       "      <th>quantity</th>\n",
       "      <th>units</th>\n",
       "      <th>recovered</th>\n",
       "    </tr>\n",
       "  </thead>\n",
       "  <tbody>\n",
       "    <tr>\n",
       "      <th>6928</th>\n",
       "      <td>1704220</td>\n",
       "      <td>COLONIE LANDFILL ODOR</td>\n",
       "      <td>1319 LOUDON RD RT 9 LANDFILL</td>\n",
       "      <td>COLONIE LANDFILL  RT 9</td>\n",
       "      <td>COLONIE COHOES LATHAM WATERFOR</td>\n",
       "      <td>Albany</td>\n",
       "      <td>NaN</td>\n",
       "      <td>126</td>\n",
       "      <td>4</td>\n",
       "      <td>07/28/2017</td>\n",
       "      <td>07/28/2017</td>\n",
       "      <td>Other</td>\n",
       "      <td>NaN</td>\n",
       "      <td>Commercial/Industrial</td>\n",
       "      <td>08/01/2017</td>\n",
       "      <td>other  -  &amp;quot;garbagy smell&amp;quot;</td>\n",
       "      <td>Other</td>\n",
       "      <td>0.000000e+00</td>\n",
       "      <td>NaN</td>\n",
       "      <td>0.0</td>\n",
       "    </tr>\n",
       "    <tr>\n",
       "      <th>7924</th>\n",
       "      <td>1705181</td>\n",
       "      <td>COLONIE LANDFILL ODOR</td>\n",
       "      <td>1319 LOUDON RD RT 9 LANDFILL</td>\n",
       "      <td>COLONIE LANDFILL  ROUTE 9  ALBANY</td>\n",
       "      <td>COLONIE COHOES LATHAM WATERFOR</td>\n",
       "      <td>Albany</td>\n",
       "      <td>NaN</td>\n",
       "      <td>126</td>\n",
       "      <td>4</td>\n",
       "      <td>08/23/2017</td>\n",
       "      <td>08/23/2017</td>\n",
       "      <td>Unknown</td>\n",
       "      <td>NaN</td>\n",
       "      <td>Commercial/Industrial</td>\n",
       "      <td>08/24/2017</td>\n",
       "      <td>food waste</td>\n",
       "      <td>Other</td>\n",
       "      <td>1.000000e+11</td>\n",
       "      <td>Pounds</td>\n",
       "      <td>0.0</td>\n",
       "    </tr>\n",
       "    <tr>\n",
       "      <th>11800</th>\n",
       "      <td>1708905</td>\n",
       "      <td>COLONIE LANDFILL ODOR</td>\n",
       "      <td>1319 LOUDON RD RT 9 LANDFILL</td>\n",
       "      <td>LANDFILL  COLONIE LANDFILL</td>\n",
       "      <td>COLONIE COHOES LATHAM WATERFOR</td>\n",
       "      <td>Albany</td>\n",
       "      <td>NaN</td>\n",
       "      <td>126</td>\n",
       "      <td>4</td>\n",
       "      <td>12/23/2017</td>\n",
       "      <td>12/24/2017</td>\n",
       "      <td>Other</td>\n",
       "      <td>NaN</td>\n",
       "      <td>Institutional, Educational, Gov., Other</td>\n",
       "      <td>12/26/2017</td>\n",
       "      <td>other  -  odor</td>\n",
       "      <td>Other</td>\n",
       "      <td>0.000000e+00</td>\n",
       "      <td>NaN</td>\n",
       "      <td>0.0</td>\n",
       "    </tr>\n",
       "    <tr>\n",
       "      <th>14079</th>\n",
       "      <td>1711094</td>\n",
       "      <td>COLONIE LANDFILL ODOR</td>\n",
       "      <td>1319 LOUDON RD RT 9 LANDFILL</td>\n",
       "      <td>COLONIE LANDFILL   COLONIE LANDFILL</td>\n",
       "      <td>COLONIE COHOES LATHAM WATERFOR</td>\n",
       "      <td>Albany</td>\n",
       "      <td>NaN</td>\n",
       "      <td>126</td>\n",
       "      <td>4</td>\n",
       "      <td>03/06/2018</td>\n",
       "      <td>03/06/2018</td>\n",
       "      <td>Unknown</td>\n",
       "      <td>NaN</td>\n",
       "      <td>Institutional, Educational, Gov., Other</td>\n",
       "      <td>03/07/2018</td>\n",
       "      <td>other  -  odor</td>\n",
       "      <td>Other</td>\n",
       "      <td>0.000000e+00</td>\n",
       "      <td>NaN</td>\n",
       "      <td>0.0</td>\n",
       "    </tr>\n",
       "  </tbody>\n",
       "</table>\n",
       "</div>"
      ],
      "text/plain": [
       "       spill_number  program_facility_name                      street_1  \\\n",
       "6928        1704220  COLONIE LANDFILL ODOR  1319 LOUDON RD RT 9 LANDFILL   \n",
       "7924        1705181  COLONIE LANDFILL ODOR  1319 LOUDON RD RT 9 LANDFILL   \n",
       "11800       1708905  COLONIE LANDFILL ODOR  1319 LOUDON RD RT 9 LANDFILL   \n",
       "14079       1711094  COLONIE LANDFILL ODOR  1319 LOUDON RD RT 9 LANDFILL   \n",
       "\n",
       "                                  street_2                        locality  \\\n",
       "6928                COLONIE LANDFILL  RT 9  COLONIE COHOES LATHAM WATERFOR   \n",
       "7924     COLONIE LANDFILL  ROUTE 9  ALBANY  COLONIE COHOES LATHAM WATERFOR   \n",
       "11800           LANDFILL  COLONIE LANDFILL  COLONIE COHOES LATHAM WATERFOR   \n",
       "14079  COLONIE LANDFILL   COLONIE LANDFILL  COLONIE COHOES LATHAM WATERFOR   \n",
       "\n",
       "       county zip_code  swis_code  dec_region  spill_date received_date  \\\n",
       "6928   Albany      NaN        126           4  07/28/2017    07/28/2017   \n",
       "7924   Albany      NaN        126           4  08/23/2017    08/23/2017   \n",
       "11800  Albany      NaN        126           4  12/23/2017    12/24/2017   \n",
       "14079  Albany      NaN        126           4  03/06/2018    03/06/2018   \n",
       "\n",
       "      contributing_factor waterbody                                   source  \\\n",
       "6928                Other       NaN                    Commercial/Industrial   \n",
       "7924              Unknown       NaN                    Commercial/Industrial   \n",
       "11800               Other       NaN  Institutional, Educational, Gov., Other   \n",
       "14079             Unknown       NaN  Institutional, Educational, Gov., Other   \n",
       "\n",
       "       close_date                        material_name material_family  \\\n",
       "6928   08/01/2017  other  -  &quot;garbagy smell&quot;           Other   \n",
       "7924   08/24/2017                           food waste           Other   \n",
       "11800  12/26/2017                       other  -  odor           Other   \n",
       "14079  03/07/2018                       other  -  odor           Other   \n",
       "\n",
       "           quantity   units  recovered  \n",
       "6928   0.000000e+00     NaN        0.0  \n",
       "7924   1.000000e+11  Pounds        0.0  \n",
       "11800  0.000000e+00     NaN        0.0  \n",
       "14079  0.000000e+00     NaN        0.0  "
      ]
     },
     "execution_count": 7,
     "metadata": {},
     "output_type": "execute_result"
    }
   ],
   "source": [
    "# Let's dig deeper into the biggest spill! Is the address listed in more incidents?\n",
    "df.loc[df.street_1 == '1319 LOUDON RD RT 9 LANDFILL']"
   ]
  },
  {
   "cell_type": "markdown",
   "id": "b9bcb54d",
   "metadata": {},
   "source": [
    "##### 4. What are the biggest spills by each county?"
   ]
  },
  {
   "cell_type": "code",
   "execution_count": 8,
   "id": "a29de2e2",
   "metadata": {},
   "outputs": [
    {
     "data": {
      "text/plain": [
       "county\n",
       "Albany     1.000004e+11\n",
       "Queens     3.658503e+06\n",
       "Erie       3.638345e+06\n",
       "Ontario    2.648872e+06\n",
       "Niagara    2.254495e+06\n",
       "Name: quantity, dtype: float64"
      ]
     },
     "execution_count": 8,
     "metadata": {},
     "output_type": "execute_result"
    }
   ],
   "source": [
    "# Group the results by county\n",
    "# Sum the quantity of materials spilled\n",
    "# Sort the summed quantity in ascending order and display the top five results\n",
    "df.groupby(by='county')['quantity'].agg('sum').sort_values(ascending=False).head(5)"
   ]
  },
  {
   "cell_type": "markdown",
   "id": "540fc1bd",
   "metadata": {},
   "source": [
    "#### Observation: Most number of spills happened in Westchester, but Albany leads when sorted by quantity of material spilled"
   ]
  },
  {
   "cell_type": "code",
   "execution_count": 23,
   "id": "2d0d3fd1",
   "metadata": {},
   "outputs": [
    {
     "data": {
      "text/html": [
       "<div>\n",
       "<style scoped>\n",
       "    .dataframe tbody tr th:only-of-type {\n",
       "        vertical-align: middle;\n",
       "    }\n",
       "\n",
       "    .dataframe tbody tr th {\n",
       "        vertical-align: top;\n",
       "    }\n",
       "\n",
       "    .dataframe thead th {\n",
       "        text-align: right;\n",
       "    }\n",
       "</style>\n",
       "<table border=\"1\" class=\"dataframe\">\n",
       "  <thead>\n",
       "    <tr style=\"text-align: right;\">\n",
       "      <th></th>\n",
       "      <th>spill_number</th>\n",
       "      <th>program_facility_name</th>\n",
       "      <th>street_1</th>\n",
       "      <th>street_2</th>\n",
       "      <th>locality</th>\n",
       "      <th>county</th>\n",
       "      <th>zip_code</th>\n",
       "      <th>swis_code</th>\n",
       "      <th>dec_region</th>\n",
       "      <th>spill_date</th>\n",
       "      <th>received_date</th>\n",
       "      <th>contributing_factor</th>\n",
       "      <th>waterbody</th>\n",
       "      <th>source</th>\n",
       "      <th>close_date</th>\n",
       "      <th>material_name</th>\n",
       "      <th>material_family</th>\n",
       "      <th>quantity</th>\n",
       "      <th>units</th>\n",
       "      <th>recovered</th>\n",
       "    </tr>\n",
       "  </thead>\n",
       "  <tbody>\n",
       "    <tr>\n",
       "      <th>58779</th>\n",
       "      <td>2107352</td>\n",
       "      <td>AIRPORT - ALLIED AVIATION</td>\n",
       "      <td>90 SOUTH SERVICE RD.</td>\n",
       "      <td>NaN</td>\n",
       "      <td>JAMAICA</td>\n",
       "      <td>Queens</td>\n",
       "      <td>NaN</td>\n",
       "      <td>4101</td>\n",
       "      <td>2</td>\n",
       "      <td>11/09/2021</td>\n",
       "      <td>11/09/2021</td>\n",
       "      <td>Other</td>\n",
       "      <td>NaN</td>\n",
       "      <td>Airport/Aircraft</td>\n",
       "      <td>11/09/2021</td>\n",
       "      <td>jet fuel</td>\n",
       "      <td>Petroleum</td>\n",
       "      <td>3416000.0</td>\n",
       "      <td>Gallons</td>\n",
       "      <td>0.0</td>\n",
       "    </tr>\n",
       "    <tr>\n",
       "      <th>23700</th>\n",
       "      <td>1808399</td>\n",
       "      <td>RAVENSWOOD</td>\n",
       "      <td>3854 VERNON BLVD</td>\n",
       "      <td>NaN</td>\n",
       "      <td>LONG ISLAND CITY</td>\n",
       "      <td>Queens</td>\n",
       "      <td>NaN</td>\n",
       "      <td>4101</td>\n",
       "      <td>2</td>\n",
       "      <td>11/07/2018</td>\n",
       "      <td>11/07/2018</td>\n",
       "      <td>Equipment Failure</td>\n",
       "      <td>EAST RIVER</td>\n",
       "      <td>Vessel</td>\n",
       "      <td>11/07/2018</td>\n",
       "      <td>#6 fuel oil</td>\n",
       "      <td>Petroleum</td>\n",
       "      <td>60000.0</td>\n",
       "      <td>Gallons</td>\n",
       "      <td>0.0</td>\n",
       "    </tr>\n",
       "    <tr>\n",
       "      <th>30051</th>\n",
       "      <td>1901895</td>\n",
       "      <td>BP SERVICE STATION  #36767</td>\n",
       "      <td>21-17 JACKSON AVENUE</td>\n",
       "      <td>NaN</td>\n",
       "      <td>NaN</td>\n",
       "      <td>Queens</td>\n",
       "      <td>NaN</td>\n",
       "      <td>4101</td>\n",
       "      <td>2</td>\n",
       "      <td>05/20/2019</td>\n",
       "      <td>05/20/2019</td>\n",
       "      <td>Housekeeping</td>\n",
       "      <td>NaN</td>\n",
       "      <td>Gasoline Station or other PBS Facility</td>\n",
       "      <td>05/30/2019</td>\n",
       "      <td>diesel</td>\n",
       "      <td>Petroleum</td>\n",
       "      <td>43595.0</td>\n",
       "      <td>Gallons</td>\n",
       "      <td>0.0</td>\n",
       "    </tr>\n",
       "  </tbody>\n",
       "</table>\n",
       "</div>"
      ],
      "text/plain": [
       "       spill_number       program_facility_name              street_1  \\\n",
       "58779       2107352   AIRPORT - ALLIED AVIATION  90 SOUTH SERVICE RD.   \n",
       "23700       1808399                  RAVENSWOOD      3854 VERNON BLVD   \n",
       "30051       1901895  BP SERVICE STATION  #36767  21-17 JACKSON AVENUE   \n",
       "\n",
       "      street_2          locality  county zip_code  swis_code  dec_region  \\\n",
       "58779      NaN           JAMAICA  Queens      NaN       4101           2   \n",
       "23700      NaN  LONG ISLAND CITY  Queens      NaN       4101           2   \n",
       "30051      NaN               NaN  Queens      NaN       4101           2   \n",
       "\n",
       "       spill_date received_date contributing_factor   waterbody  \\\n",
       "58779  11/09/2021    11/09/2021               Other         NaN   \n",
       "23700  11/07/2018    11/07/2018   Equipment Failure  EAST RIVER   \n",
       "30051  05/20/2019    05/20/2019        Housekeeping         NaN   \n",
       "\n",
       "                                       source  close_date material_name  \\\n",
       "58779                        Airport/Aircraft  11/09/2021      jet fuel   \n",
       "23700                                  Vessel  11/07/2018   #6 fuel oil   \n",
       "30051  Gasoline Station or other PBS Facility  05/30/2019        diesel   \n",
       "\n",
       "      material_family   quantity    units  recovered  \n",
       "58779       Petroleum  3416000.0  Gallons        0.0  \n",
       "23700       Petroleum    60000.0  Gallons        0.0  \n",
       "30051       Petroleum    43595.0  Gallons        0.0  "
      ]
     },
     "execution_count": 23,
     "metadata": {},
     "output_type": "execute_result"
    }
   ],
   "source": [
    "# Queens is listed at number two but is the closest to NYC. Let's take a closer look at what's happening in Queens\n",
    "df.loc[df.county == 'Queens'].sort_values(by='quantity', ascending=False).head(3)"
   ]
  },
  {
   "cell_type": "markdown",
   "id": "fb9df04e",
   "metadata": {},
   "source": [
    "Plotting the incidents in queens by the materials spilled, their quantities and sources of spills"
   ]
  },
  {
   "cell_type": "code",
   "execution_count": 19,
   "id": "52978104",
   "metadata": {},
   "outputs": [],
   "source": [
    "from plotnine import *"
   ]
  },
  {
   "cell_type": "code",
   "execution_count": 22,
   "id": "e4c1b9a2",
   "metadata": {},
   "outputs": [
    {
     "data": {
      "image/png": "[encoded data removed]",
      "text/plain": [
       "<Figure size 640x480 with 1 Axes>"
      ]
     },
     "metadata": {},
     "output_type": "display_data"
    },
    {
     "data": {
      "text/plain": [
       "<ggplot: (350672930)>"
      ]
     },
     "execution_count": 22,
     "metadata": {},
     "output_type": "execute_result"
    }
   ],
   "source": [
    "# For sake of simplicity, only the top twenty incidents are plotted\n",
    "queens_incidents = df.loc[df.county == 'Queens'].sort_values(by='quantity', ascending=False).head(20)\n",
    "ggplot(queens_incidents, aes(y='material_name', x='quantity', color='source'))+geom_point(aes(size = 'quantity'))"
   ]
  },
  {
   "cell_type": "markdown",
   "id": "8dc6d449",
   "metadata": {},
   "source": [
    "##### 5. Longest clean up time"
   ]
  },
  {
   "cell_type": "code",
   "execution_count": null,
   "id": "620d9797",
   "metadata": {},
   "outputs": [],
   "source": [
    "df.dtypes"
   ]
  },
  {
   "cell_type": "code",
   "execution_count": null,
   "id": "c16ef923",
   "metadata": {},
   "outputs": [],
   "source": [
    "df['spill_date'] = pd.to_datetime(df.spill_date, format=\"%m/%d/%Y\", errors='coerce')\n",
    "df['close_date'] = pd.to_datetime(df.close_date, format=\"%m/%d/%Y\", errors='coerce')"
   ]
  },
  {
   "cell_type": "code",
   "execution_count": null,
   "id": "a8886f11",
   "metadata": {},
   "outputs": [],
   "source": [
    "df.dtypes"
   ]
  },
  {
   "cell_type": "code",
   "execution_count": null,
   "id": "7c18442a",
   "metadata": {},
   "outputs": [],
   "source": [
    "df['recovery_days'] = df['close_date'] - df['spill_date']"
   ]
  },
  {
   "cell_type": "code",
   "execution_count": null,
   "id": "70b29c2d",
   "metadata": {},
   "outputs": [],
   "source": [
    "df.sort_values(by='recovery_days', ascending=False).head(5)"
   ]
  },
  {
   "cell_type": "markdown",
   "id": "d7516ba0",
   "metadata": {},
   "source": [
    "##### 6. What are the most and least common sources of spills?"
   ]
  },
  {
   "cell_type": "code",
   "execution_count": null,
   "id": "37aa200f",
   "metadata": {},
   "outputs": [],
   "source": [
    "df.source.value_counts()"
   ]
  },
  {
   "cell_type": "code",
   "execution_count": null,
   "id": "479a846c",
   "metadata": {},
   "outputs": [],
   "source": [
    "df.loc[df.source == 'Chemical Bulk Storage Facility']"
   ]
  },
  {
   "cell_type": "markdown",
   "id": "d464c8a3",
   "metadata": {},
   "source": [
    "#### Is there a particular month in which most spills tend to occur?"
   ]
  },
  {
   "cell_type": "code",
   "execution_count": null,
   "id": "5b9f189d",
   "metadata": {},
   "outputs": [],
   "source": [
    "df.spill_date.dt.month.value_counts()"
   ]
  },
  {
   "cell_type": "code",
   "execution_count": null,
   "id": "05112cdf",
   "metadata": {},
   "outputs": [],
   "source": [
    "df.spill_date.dt.month.value_counts().plot(kind='bar', color='gray')"
   ]
  },
  {
   "cell_type": "code",
   "execution_count": null,
   "id": "6ed23aa3",
   "metadata": {},
   "outputs": [],
   "source": [
    "df.resample('M', on='spill_date').size().sort_values(ascending=False).head(5)"
   ]
  },
  {
   "cell_type": "markdown",
   "id": "129e6721",
   "metadata": {},
   "source": [
    "Observation: Overall, most spills occured in July and August. More specifically, most spills in a single month happened in August 2020"
   ]
  },
  {
   "cell_type": "markdown",
   "id": "08a1f8bf",
   "metadata": {},
   "source": [
    "### Some quick visualizations!"
   ]
  },
  {
   "cell_type": "markdown",
   "id": "5002e212",
   "metadata": {},
   "source": [
    "### Charts to make:\n",
    "1. Recovery days plotted by county\n",
    "2. Number of spills plotted by county\n",
    "3. Quantity and type of material spilled"
   ]
  },
  {
   "cell_type": "code",
   "execution_count": null,
   "id": "915d09f3",
   "metadata": {},
   "outputs": [],
   "source": [
    "# (ggplot(df, aes('recovery_days', 'county'))+ geom_point())"
   ]
  },
  {
   "cell_type": "code",
   "execution_count": null,
   "id": "2f39775d",
   "metadata": {},
   "outputs": [],
   "source": [
    "df.head(5)"
   ]
  },
  {
   "cell_type": "code",
   "execution_count": null,
   "id": "4e54d704",
   "metadata": {},
   "outputs": [],
   "source": [
    "df.dtypes"
   ]
  },
  {
   "cell_type": "code",
   "execution_count": null,
   "id": "716809bb",
   "metadata": {},
   "outputs": [],
   "source": [
    "# import numpy as np\n",
    "# df.recovery_days.astype('timedelta64[D]')/np.timedelta64(1, 'D')"
   ]
  },
  {
   "cell_type": "code",
   "execution_count": null,
   "id": "a2565397",
   "metadata": {},
   "outputs": [],
   "source": [
    "df.recovery_days.astype(int)"
   ]
  },
  {
   "cell_type": "code",
   "execution_count": null,
   "id": "5183ce6b",
   "metadata": {},
   "outputs": [],
   "source": [
    "df['recovery_to_plot'] = df.recovery_days.astype(int)/86400000000000"
   ]
  },
  {
   "cell_type": "code",
   "execution_count": null,
   "id": "416a8322",
   "metadata": {},
   "outputs": [],
   "source": [
    "df.head(5)"
   ]
  },
  {
   "cell_type": "code",
   "execution_count": null,
   "id": "49ad12ac",
   "metadata": {},
   "outputs": [],
   "source": [
    "(ggplot(df, aes('county', 'recovery_to_plot'))+ geom_line())"
   ]
  },
  {
   "cell_type": "code",
   "execution_count": null,
   "id": "e3dcfc02",
   "metadata": {},
   "outputs": [],
   "source": [
    "df.recovery_to_plot.value_counts()"
   ]
  },
  {
   "cell_type": "code",
   "execution_count": null,
   "id": "d7921a3e",
   "metadata": {},
   "outputs": [],
   "source": [
    "df.loc[df.recovery_to_plot == -106751.991167]"
   ]
  },
  {
   "cell_type": "code",
   "execution_count": null,
   "id": "9cf4b6a3",
   "metadata": {},
   "outputs": [],
   "source": [
    "# df.recovery_days.value_counts()"
   ]
  },
  {
   "cell_type": "code",
   "execution_count": null,
   "id": "66ad0989",
   "metadata": {},
   "outputs": [],
   "source": [
    "df.groupby(by='county').plot(y='recovery_to_plot', x='county', figsize=(10,3))"
   ]
  },
  {
   "cell_type": "code",
   "execution_count": null,
   "id": "6f2e21cb",
   "metadata": {},
   "outputs": [],
   "source": [
    "(ggplot(df, aes('county', 'material_name'))+ geom_point())"
   ]
  },
  {
   "cell_type": "code",
   "execution_count": null,
   "id": "2f7f142f",
   "metadata": {},
   "outputs": [],
   "source": [
    "ggplot(df, aes(x='county', y='material_name')) + geom_boxplot()"
   ]
  },
  {
   "cell_type": "code",
   "execution_count": null,
   "id": "9237874b",
   "metadata": {},
   "outputs": [],
   "source": [
    "df.nunique()"
   ]
  },
  {
   "cell_type": "code",
   "execution_count": null,
   "id": "76129192",
   "metadata": {},
   "outputs": [],
   "source": [
    "df.groupby(by='county')['quantity'].agg('sum').sort_values(ascending=False).head(5).plot()"
   ]
  },
  {
   "cell_type": "code",
   "execution_count": null,
   "id": "64d853a8",
   "metadata": {},
   "outputs": [],
   "source": [
    "df.groupby(by='county').recovery_to_plot.mean().head(5).plot()"
   ]
  },
  {
   "cell_type": "code",
   "execution_count": null,
   "id": "ab63e6b5",
   "metadata": {},
   "outputs": [],
   "source": [
    "counties_to_plot = df.groupby(['county', 'material_name'])['recovery_days'].agg('mean').reset_index().sort_values(by='recovery_days', ascending=False).head(5)\n",
    "counties_to_plot"
   ]
  },
  {
   "cell_type": "code",
   "execution_count": null,
   "id": "016631a0",
   "metadata": {},
   "outputs": [],
   "source": [
    "# Plot - recovery days, county, materia"
   ]
  },
  {
   "cell_type": "code",
   "execution_count": null,
   "id": "aaef2816",
   "metadata": {},
   "outputs": [],
   "source": [
    "df.loc[df.county == 'Rockland']"
   ]
  },
  {
   "cell_type": "code",
   "execution_count": null,
   "id": "3b524aa6",
   "metadata": {},
   "outputs": [],
   "source": [
    "df = df.dropna('recovery_to_plot')"
   ]
  },
  {
   "cell_type": "code",
   "execution_count": null,
   "id": "8fc580bc",
   "metadata": {},
   "outputs": [],
   "source": [
    "counties_to_plot = df.groupby(['county', 'material_name'])['recovery_to_plot'].agg('mean').reset_index().sort_values(by='recovery_to_plot', ascending=False).head(5)\n",
    "counties_to_plot"
   ]
  },
  {
   "cell_type": "code",
   "execution_count": null,
   "id": "a32b46b2",
   "metadata": {},
   "outputs": [],
   "source": [
    "ggplot(counties_to_plot, aes(x='material_name', y='recovery_to_plot', color='county'))+geom_point(aes(size = 'recovery_to_plot'))"
   ]
  },
  {
   "cell_type": "code",
   "execution_count": null,
   "id": "735873ec",
   "metadata": {},
   "outputs": [],
   "source": [
    "df.shape"
   ]
  },
  {
   "cell_type": "code",
   "execution_count": null,
   "id": "0012dbd6",
   "metadata": {},
   "outputs": [],
   "source": [
    "df.columns"
   ]
  },
  {
   "cell_type": "code",
   "execution_count": null,
   "id": "a3bc1202",
   "metadata": {},
   "outputs": [],
   "source": [
    "df.dtypes"
   ]
  },
  {
   "cell_type": "code",
   "execution_count": null,
   "id": "ad3bc626",
   "metadata": {},
   "outputs": [],
   "source": [
    "df.recovery_to_plot.value_counts()"
   ]
  },
  {
   "cell_type": "code",
   "execution_count": null,
   "id": "191f26fa",
   "metadata": {},
   "outputs": [],
   "source": [
    "df.material_name.value_counts()"
   ]
  },
  {
   "cell_type": "code",
   "execution_count": null,
   "id": "97c1b8e6",
   "metadata": {},
   "outputs": [],
   "source": [
    "df.loc[df.county == 'Westchester'].reset_index()"
   ]
  },
  {
   "cell_type": "code",
   "execution_count": null,
   "id": "2b9355a4",
   "metadata": {},
   "outputs": [],
   "source": [
    "df.loc[df.county == 'Westchester'].contributing_factor.value_counts()"
   ]
  },
  {
   "cell_type": "code",
   "execution_count": null,
   "id": "6ea5973d",
   "metadata": {},
   "outputs": [],
   "source": [
    "df.county.unique()"
   ]
  },
  {
   "cell_type": "code",
   "execution_count": null,
   "id": "1de9fb10",
   "metadata": {},
   "outputs": [],
   "source": [
    "df.loc[df.county == 'Westchester'].reset_index()"
   ]
  },
  {
   "cell_type": "code",
   "execution_count": null,
   "id": "bcdc2b2d",
   "metadata": {},
   "outputs": [],
   "source": [
    "df.loc[df.county == 'Westchester'].source.value_counts().plot(kind='barh', color='red', figsize=(8,6), title='Number of spills in Albany by source type')"
   ]
  },
  {
   "cell_type": "code",
   "execution_count": null,
   "id": "932fd47a",
   "metadata": {},
   "outputs": [],
   "source": [
    "fig = df.loc[df.county == 'Westchester'].source.value_counts().plot(kind='barh', color='red', figsize=(8,6), title='Number of spills in Albany by source type')"
   ]
  },
  {
   "cell_type": "code",
   "execution_count": null,
   "id": "5abc1082",
   "metadata": {},
   "outputs": [],
   "source": [
    "df.loc[df.county == 'Albany'].source.value_counts().plot(kind='bar')"
   ]
  },
  {
   "cell_type": "code",
   "execution_count": null,
   "id": "ce72707d",
   "metadata": {},
   "outputs": [],
   "source": [
    "df.source.value_counts().plot(kind='barh', color='gray', figsize=(8,6), title='Source of spills')"
   ]
  },
  {
   "cell_type": "code",
   "execution_count": null,
   "id": "cedfe956",
   "metadata": {},
   "outputs": [],
   "source": [
    "source_to_plot =df.groupby(['source', 'county', 'material_name'])['quantity'].agg('sum').reset_index().sort_values(by='quantity', ascending=False).head(10)"
   ]
  },
  {
   "cell_type": "code",
   "execution_count": null,
   "id": "450f1242",
   "metadata": {},
   "outputs": [],
   "source": [
    "ggplot(source_to_plot, aes(x='county', y='source', color='material_name'))+geom_point(aes(size = 'quantity'))"
   ]
  },
  {
   "cell_type": "code",
   "execution_count": null,
   "id": "ef263a50",
   "metadata": {},
   "outputs": [],
   "source": []
  }
 ],
 "metadata": {
  "kernelspec": {
   "display_name": "Python 3 (ipykernel)",
   "language": "python",
   "name": "python3"
  },
  "language_info": {
   "codemirror_mode": {
    "name": "ipython",
    "version": 3
   },
   "file_extension": ".py",
   "mimetype": "text/x-python",
   "name": "python",
   "nbconvert_exporter": "python",
   "pygments_lexer": "ipython3",
   "version": "3.10.0"
  }
 },
 "nbformat": 4,
 "nbformat_minor": 5
}
